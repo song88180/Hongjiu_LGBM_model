{
 "cells": [
  {
   "cell_type": "markdown",
   "metadata": {},
   "source": [
    "# 01.01 Stacked generalization split\n",
    "\n",
    "* Generate a 5-fold cross-validation split. All base learners should make predictions on the split and evaluate their prediction after their training. The results are used in ensemble models. This allows faster training of ensemble models."
   ]
  },
  {
   "cell_type": "code",
   "execution_count": 1,
   "metadata": {},
   "outputs": [],
   "source": [
    "import warnings\n",
    "warnings.filterwarnings('ignore', 'The least populated class')\n",
    "\n",
    "import numpy\n",
    "import sklearn.model_selection\n",
    "import tables\n",
    "\n",
    "import utils"
   ]
  },
  {
   "cell_type": "markdown",
   "metadata": {},
   "source": [
    "## Materials\n",
    "\n",
    "Mutation counts. Use fixed seed to ensure the reproducibility."
   ]
  },
  {
   "cell_type": "code",
   "execution_count": 2,
   "metadata": {},
   "outputs": [],
   "source": [
    "mutation_count = utils.data.load('training', 'mutation_count')\n",
    "fitness_group = utils.data.load('training', 'fitness_group')\n",
    "groups = mutation_count * (fitness_group.max() + 1) + fitness_group"
   ]
  },
  {
   "cell_type": "markdown",
   "metadata": {},
   "source": [
    "## Methods\n",
    "\n",
    "Use a fixed random seed to ensure reproducibility."
   ]
  },
  {
   "cell_type": "code",
   "execution_count": 3,
   "metadata": {},
   "outputs": [],
   "source": [
    "RANDOM_STATE = 42\n",
    "SPLIT_COUNT = 5\n",
    "\n",
    "kfold = sklearn.model_selection.StratifiedKFold(n_splits=SPLIT_COUNT,\n",
    "                                                random_state=RANDOM_STATE)\n",
    "label = numpy.zeros((SPLIT_COUNT, mutation_count.size), dtype='?')\n",
    "for i, (train_idx, __) in enumerate(kfold.split(groups[:, None], groups)):\n",
    "    label[i, train_idx] = True\n",
    "file = tables.open_file(utils.data.path(1) / '01.stack.h5', 'w')\n",
    "file.create_array('/', 'stack_train', obj=label)\n",
    "file.close()"
   ]
  },
  {
   "cell_type": "markdown",
   "metadata": {},
   "source": [
    "Test reproducibility."
   ]
  },
  {
   "cell_type": "code",
   "execution_count": 4,
   "metadata": {},
   "outputs": [],
   "source": [
    "kfold = sklearn.model_selection.StratifiedKFold(n_splits=SPLIT_COUNT,\n",
    "                                                random_state=RANDOM_STATE)\n",
    "label1 = numpy.zeros((SPLIT_COUNT, mutation_count.size), dtype='?')\n",
    "for i, (train_idx, __) in enumerate(kfold.split(groups[:, None], groups)):\n",
    "    label1[i, train_idx] = True"
   ]
  },
  {
   "cell_type": "markdown",
   "metadata": {},
   "source": [
    "## Results\n",
    "\n",
    "Reprodicibility"
   ]
  },
  {
   "cell_type": "code",
   "execution_count": 5,
   "metadata": {},
   "outputs": [
    {
     "data": {
      "text/plain": [
       "True"
      ]
     },
     "execution_count": 5,
     "metadata": {},
     "output_type": "execute_result"
    }
   ],
   "source": [
    "(label == label1).all()"
   ]
  }
 ],
 "metadata": {
  "kernelspec": {
   "display_name": "Python 3",
   "language": "python",
   "name": "python3"
  },
  "language_info": {
   "codemirror_mode": {
    "name": "ipython",
    "version": 3
   },
   "file_extension": ".py",
   "mimetype": "text/x-python",
   "name": "python",
   "nbconvert_exporter": "python",
   "pygments_lexer": "ipython3",
   "version": "3.6.7"
  }
 },
 "nbformat": 4,
 "nbformat_minor": 2
}
